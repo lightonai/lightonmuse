{
  "cells": [
    {
      "cell_type": "markdown",
      "metadata": {
        "tags": [],
        "id": "fyQDK7W4_s00"
      },
      "source": [
        "# ⚙️ Technical setup\n"
      ],
      "id": "fyQDK7W4_s00"
    },
    {
      "cell_type": "code",
      "source": [
        "!wget https://github.com/lightonai/lightonmuse/releases/download/v0.1/lightonmuse-0.1-py3-none-any.whl\n",
        "!pip install lightonmuse-0.1-py3-none-any.whl"
      ],
      "metadata": {
        "id": "tRfVkDfpBFtM"
      },
      "id": "tRfVkDfpBFtM",
      "execution_count": null,
      "outputs": []
    },
    {
      "cell_type": "code",
      "execution_count": null,
      "metadata": {
        "id": "7Z5QQ3Jx_s01"
      },
      "outputs": [],
      "source": [
        "from lightonmuse import Create, Select\n",
        "import os\n",
        "\n",
        "# IMPORTANT: Add your Muse API key below. If you don't have one, contact muse@lighton.ai.\n",
        "os.environ['MUSE_API_KEY'] = \"<YOUR-MUSE-API-KEY>\"\n",
        "\n",
        "creator_en = Create(\"lyra-en\")\n",
        "creator_fr = Create(\"orion-fr\")\n",
        "selector_en = Select(\"lyra-en\")\n"
      ],
      "id": "7Z5QQ3Jx_s01"
    },
    {
      "cell_type": "markdown",
      "metadata": {
        "tags": [],
        "id": "T2SlGaHs_s0z"
      },
      "source": [
        "# 🧑‍💻 Demo -- `lyra-en`, our large English model"
      ],
      "id": "T2SlGaHs_s0z"
    },
    {
      "cell_type": "markdown",
      "metadata": {
        "tags": [],
        "id": "uQz5eTw-_s02"
      },
      "source": [
        "## 💭 Creative Writing -- Freeform generation"
      ],
      "id": "uQz5eTw-_s02"
    },
    {
      "cell_type": "code",
      "execution_count": null,
      "metadata": {
        "id": "7v6al1ve_s03"
      },
      "outputs": [],
      "source": [
        "prompt = \"The Moon blew up without warning for no apparent reason. It was waxing, only one day short of full. The time was 05:03:12 UTC. Later it would be designated A+0.0.0, or simply Zero.\\nAn amateur astronomer in Utah was the first person on Earth to realize that something unusual was happening. Moments earlier, he had noticed a blur flourishing in the vicinity of the Reiner Gamma formation, near the moon’s equator. He assumed it was a dust cloud thrown up by a meteor strike.\"\n",
        "print(\"Prompt | \" + prompt)\n",
        "\n",
        "out = creator_en(prompt, temperature=1.0, n_tokens=65, seed=0)\n",
        "print(\"\\n\\n🤖 | \" + out[0][0]['completions'][0]['output_text'])"
      ],
      "id": "7v6al1ve_s03"
    },
    {
      "cell_type": "markdown",
      "metadata": {
        "tags": [],
        "id": "zkrOe32b_s04"
      },
      "source": [
        "## 📃 Copywriting -- Guided generation"
      ],
      "id": "zkrOe32b_s04"
    },
    {
      "cell_type": "code",
      "execution_count": null,
      "metadata": {
        "id": "QGuW2lwT_s05"
      },
      "outputs": [],
      "source": [
        "prompt = \"An Instagram ad for Atmosphere resort, a luxury hotel on Apo island in the Philippines with world-class diving.\\n\\nInstagram Ad:\" \n",
        "print(\"Prompt | \" + prompt)\n",
        "\n",
        "out = creator_en(prompt, temperature=0.8, n_tokens=98, seed=0, \n",
        "                  word_biases={\"luxury\": 5, \"scuba\": 5}, frequency_penalty=0.5) # We use biases to guide generation.\n",
        "print(\"\\n\\n🤖 | \" + out[0][0]['completions'][0]['output_text'])"
      ],
      "id": "QGuW2lwT_s05"
    },
    {
      "cell_type": "markdown",
      "metadata": {
        "tags": [],
        "id": "koPF8h1X_s06"
      },
      "source": [
        "## ✨ Marketing -- Automated review answering"
      ],
      "id": "koPF8h1X_s06"
    },
    {
      "cell_type": "code",
      "execution_count": null,
      "metadata": {
        "id": "MGkiAwW-_s06"
      },
      "outputs": [],
      "source": [
        "prompt = \"Answer the following client reviews.\\n\\n###\\n\\nReview: Really innovative and cool vibe. Cocktails are unusual sounding, but great tasting. We loved the service too, not at all pretentious, friendly and attentive. We’ll be back!\\nAnswer: Thank you for your positive review! We hope to see you again soon :).\\n\\n###\\n\\nReview: Great atmosphere. Poor service and drinks.  Waited 45 minutes for our drinks.  The mojito was like Sprite with mint garnish.  They didn’t seem to care.  For a bar based on cocktails, super poor.  Expensive and overrated.  Go elsewhere\\nAnswer: We are sorry we didn't meet your expectations, and that you had to wait for so long. We hope you give us another chance soon.\\n\\n###\\n\\nReview: I like this bar. The deco, the staff and the little bit of a mystery in finding it all adds up to a positive experience.\\nAnswer:\" \n",
        "print(\"Prompt | \" + prompt, end=\" \")\n",
        "\n",
        "out = creator_en(prompt, temperature=0.8, n_tokens=25, seed=0, \n",
        "                  stop_words=[\"\\n\", \".\", \"\\n\\n\"]) # We are using stop words to generate only one response.\n",
        "                  # Using a lower temperature would create shorter (e.g. 0.6), more direct answers. \n",
        "print(\"🤖 | \" + out[0][0]['completions'][0]['output_text'])"
      ],
      "id": "MGkiAwW-_s06"
    },
    {
      "cell_type": "markdown",
      "metadata": {
        "tags": [],
        "id": "OFbGVSGl_s07"
      },
      "source": [
        "## 🧑‍🏫 Q&A -- Statistics & machine learning"
      ],
      "id": "OFbGVSGl_s07"
    },
    {
      "cell_type": "code",
      "execution_count": null,
      "metadata": {
        "id": "7789nzWl_s07"
      },
      "outputs": [],
      "source": [
        "prompt =\"Question: What is a statistical model?\\nAnswer: A statistical model is a mathematical model that describes the probability of an event.\\nQuestion: What is an artificial neural network?\\nAnswer:\"\n",
        "print(\"Prompt | \" + prompt, end=\" \")\n",
        "\n",
        "out = creator_en(prompt, temperature=1.0, seed=0, \n",
        "                  stop_words=[\".\", \"!\", \"...\", \"\\n\\n\"]) # We are using stop words to generate only one response.\n",
        "print(\"🤖 | \" + out[0][0]['completions'][0]['output_text'])"
      ],
      "id": "7789nzWl_s07"
    },
    {
      "cell_type": "markdown",
      "metadata": {
        "id": "lJQzlQNl_s08"
      },
      "source": [
        "## 💬 Chatbot -- Python helper"
      ],
      "id": "lJQzlQNl_s08"
    },
    {
      "cell_type": "code",
      "execution_count": null,
      "metadata": {
        "id": "i-B7fEy-_s09"
      },
      "outputs": [],
      "source": [
        "prompt = \"Eve is an helpful chatbot knowledgeable about Python.\\n\\nYou: How do I sort an array?\\nEve: You can use the sort() method.\\nYou: How do I remove the last element of an array?\\nEve: \"\n",
        "print(\"Prompt | \" + prompt, end=\" \")\n",
        "\n",
        "out = creator_en(prompt, temperature=0.9, seed=0, \n",
        "                  stop_words=[\".\", \"!\", \"...\", \"\\n\\n\"]) # We are using stop words to generate only one response.\n",
        "print(\"🤖 | \" + out[0][0]['completions'][0]['output_text'])"
      ],
      "id": "i-B7fEy-_s09"
    },
    {
      "cell_type": "markdown",
      "metadata": {
        "tags": [],
        "id": "L-bSefdd_s0-"
      },
      "source": [
        "## 👍 Classification -- Sentiment analysis"
      ],
      "id": "L-bSefdd_s0-"
    },
    {
      "cell_type": "code",
      "execution_count": null,
      "metadata": {
        "id": "csCBzZsJ_s0-"
      },
      "outputs": [],
      "source": [
        "prompt = \"This is a review sentiment classifier.\\n\\nReview: 'The new Dune movie is great!'\\nSentiment: Positive.\\n###\\nReview: 'Suicide Squad was an awful movie, that's 2 hours of my life I won't get back...'\\nSentiment: Negative.\\n###\\nReview: 'Wooh, just came out of Interstellar and it was amazing.'\\nSentiment: Positive.\\n###\\nReview: 'TBH Squid Game wasn't worth my time.'\\nSentiment:\"\n",
        "print(\"Prompt | \" + prompt, end=\" \")\n",
        "\n",
        "out = creator_en(prompt, temperature=0.1, seed=0, # Very low temperature as there is no need for creativity.\n",
        "                  stop_words=[\".\", \"!\", \"...\", \"\\n\\n\"]) # We are using stop words to generate only one response.\n",
        "print(\"🤖 | \" + out[0][0]['completions'][0]['output_text'])"
      ],
      "id": "csCBzZsJ_s0-"
    },
    {
      "cell_type": "markdown",
      "metadata": {
        "id": "5ztGhhYW_s0_"
      },
      "source": [
        "## 🏢 Classification -- Open-ended"
      ],
      "id": "5ztGhhYW_s0_"
    },
    {
      "cell_type": "code",
      "execution_count": null,
      "metadata": {
        "id": "brg8oO9e_s1A"
      },
      "outputs": [],
      "source": [
        "prompt = \"The following is a list of companies and the categories they fall into\\n\\nMeta: Social media, Virtual Reality\\nLinkedIn: Social media, Careers\\nDeliveroo: Logistics, Food, Marketplace\\nUber: Transportation, Marketplace\\nUnilever: Conglomerate, Consumer Goods\\nMcDonalds: Fast Food, Restaurants\\nGoogle:\"\n",
        "print(\"Prompt | \" + prompt, end=\" \")\n",
        "\n",
        "out = creator_en(prompt, temperature=0.3, seed=0, # Low temperature as we don't need much creativity.\n",
        "                  stop_words=[\".\", \"!\", \"...\", \"\\n\\n\", \"\\n\"]) # We are using stop words to generate only one response.\n",
        "print(\"🤖 | \" + out[0][0]['completions'][0]['output_text'])"
      ],
      "id": "brg8oO9e_s1A"
    },
    {
      "cell_type": "markdown",
      "metadata": {
        "id": "mO0gyoBr_s1A"
      },
      "source": [
        "## 📊 Classification -- Using log-probabilities"
      ],
      "id": "mO0gyoBr_s1A"
    },
    {
      "cell_type": "code",
      "execution_count": null,
      "metadata": {
        "id": "hRW0ri94_s1B"
      },
      "outputs": [],
      "source": [
        "prompt = \"Hey! I let my subscription lapse last month and can't connect anymore to the platform... Can you help?\"\n",
        "classes = [\"This user is asking for technical support.\", \"This user wants to cancel his subscription.\", \"This user is giving feedback.\"]\n",
        "print(\"Prompt | \" + prompt)\n",
        "print(\"Candidates | \" + str(classes))\n",
        "\n",
        "out = selector_en(prompt, classes) # When using log-probabilities, we don't need to think about sampling.\n",
        "print(\"🤖 | \" + out[0][0]['rankings'][0]['text'])"
      ],
      "id": "hRW0ri94_s1B"
    },
    {
      "cell_type": "markdown",
      "metadata": {
        "id": "CmMrWktG_s1C"
      },
      "source": [
        "## 🙋 Q&A -- Using log-probabilities"
      ],
      "id": "CmMrWktG_s1C"
    },
    {
      "cell_type": "code",
      "execution_count": null,
      "metadata": {
        "id": "n9Z6zDVM_s1C"
      },
      "outputs": [],
      "source": [
        "prompt = \"Who was the president of France in 2015?\"\n",
        "classes = [\"Emmanuel Macron.\", \"François Hollande.\", \"Barack Obama.\"]\n",
        "print(\"Prompt | \" + prompt)\n",
        "print(\"Candidates | \" + str(classes))\n",
        "\n",
        "out = selector_en(prompt, classes) # When using log-probabilities, we don't need to think about sampling.\n",
        "print(\"🤖 | \" + out[0][0]['rankings'][0]['text'])"
      ],
      "id": "n9Z6zDVM_s1C"
    },
    {
      "cell_type": "markdown",
      "metadata": {
        "id": "UyIlCvdU_s1D"
      },
      "source": [
        "## 💰 AI Millionaire -- Using log-probabilities"
      ],
      "id": "UyIlCvdU_s1D"
    },
    {
      "cell_type": "code",
      "execution_count": null,
      "metadata": {
        "id": "pdV9v30g_s1D"
      },
      "outputs": [],
      "source": [
        "prompt = 'In Alexander Dumas\\' book, \"The Three Musketeers\", two of the musketeers are called Athos and Porthos. What was the name of the third Musketeer?'\n",
        "classes = [\"Aramis\", \"Cardinal Richelieu\", \"D'Artagnan\", \"Planchet\"]\n",
        "print(\"Prompt | \" + prompt)\n",
        "print(\"Candidates | \" + str(classes))\n",
        "\n",
        "out = selector_en(prompt, classes) # When using log-probabilities, we don't need to think about sampling.\n",
        "print(\"🤖 | \" + out[0][0]['rankings'][0]['text'])"
      ],
      "id": "pdV9v30g_s1D"
    },
    {
      "cell_type": "markdown",
      "metadata": {
        "id": "xohD4JWn_s1D"
      },
      "source": [
        "## 📝 Text Transformation -- Autocorrect"
      ],
      "id": "xohD4JWn_s1D"
    },
    {
      "cell_type": "code",
      "execution_count": null,
      "metadata": {
        "id": "6PusQ_jj_s1E"
      },
      "outputs": [],
      "source": [
        "prompt = \"Correct sentences into proper English.\\n\\nIncorrect: Can we use there house?\\nCorrect:\"\n",
        "print(\"Prompt | \" + prompt, end=\" \")\n",
        "\n",
        "out = creator_en(prompt, temperature=0.2, seed=0, # Low temperature to remain factual and close to original text.\n",
        "                     stop_words=[\"\\n\"], n_tokens=25) # We are using stop words to generate only one answer.\n",
        "print(\"🤖 | \" + out[0][0]['completions'][0]['output_text'])"
      ],
      "id": "6PusQ_jj_s1E"
    },
    {
      "cell_type": "markdown",
      "metadata": {
        "tags": [],
        "id": "rlpDLFQq_s1E"
      },
      "source": [
        "## 🏷️ Retrieval -- Keywords"
      ],
      "id": "rlpDLFQq_s1E"
    },
    {
      "cell_type": "code",
      "execution_count": null,
      "metadata": {
        "id": "9owBAeOT_s1F"
      },
      "outputs": [],
      "source": [
        "prompt = \"Text: Double Asteroid Redirection Test (DART) is a NASA space mission aimed at testing a method of planetary defense against near-Earth objects (NEO). It will deliberately crash a space probe into the double asteroid Didymos' moon, Dimorphos, to test whether the kinetic energy of a spacecraft impact could successfully deflect an asteroid on a collision course with Earth. DART is a joint project between NASA and the Johns Hopkins Applied Physics Laboratory (APL), administered by NASA's Planetary Defense Coordination Office, with several NASA laboratories and offices providing technical support. International partners, such as the space agencies of Europe, Italy, and Japan, are contributing to related or subsequent projects. In August 2018, NASA approved the project to start the final design and assembly phase. DART was launched on 24 November 2021, at 06:21:02 UTC, with collision slated for 26 September 2022.\\n\\nKeywords:\"\n",
        "print(\"Prompt | \" + prompt, end=\" \")\n",
        "\n",
        "out = creator_en(prompt, temperature=0.7, seed=0,\n",
        "                     stop_words=[\"\\n\"], presence_penalty=1., n_tokens=15) # We use a presence_penalty to encourage different keywords\n",
        "print(\"🤖 | \" + out[0][0]['completions'][0]['output_text'])"
      ],
      "id": "9owBAeOT_s1F"
    },
    {
      "cell_type": "markdown",
      "metadata": {
        "id": "TtTOA5nv_s1F"
      },
      "source": [
        "## 📋 Text Transformation -- Summarization"
      ],
      "id": "TtTOA5nv_s1F"
    },
    {
      "cell_type": "code",
      "execution_count": null,
      "metadata": {
        "id": "AMdbej34_s1F"
      },
      "outputs": [],
      "source": [
        "prompt = \"A neutron star is the collapsed core of a massive supergiant star, which had a total mass of between 10 and 25 solar masses, possibly more if the star was especially metal-rich.[1] Neutron stars are the smallest and densest stellar objects, excluding black holes and hypothetical white holes, quark stars, and strange stars.[2] Neutron stars have a radius on the order of 10 kilometres (6.2 mi) and a mass of about 1.4 solar masses.[3] They result from the supernova explosion of a massive star, combined with gravitational collapse, that compresses the core past white dwarf star density to that of atomic nuclei.\\n\\ntl;dr:\"\n",
        "print(\"Prompt | \" + prompt, end=\" \")\n",
        "\n",
        "out = creator_en(prompt, p=0.9, temperature=0.8, seed=0, n_completions=3, best_of=1, # Best of helps create higher quality texts.\n",
        "                     stop_words=[\"!\", \"...\", \"\\n\"], n_tokens=100)\n",
        "print(\"🤖 | \" + out[0][0]['completions'][0]['output_text'])"
      ],
      "id": "AMdbej34_s1F"
    },
    {
      "cell_type": "markdown",
      "metadata": {
        "id": "DjfGWqET_s1G"
      },
      "source": [
        "# 📋 Demo -- `orion-fr` summarization skill"
      ],
      "id": "DjfGWqET_s1G"
    },
    {
      "cell_type": "code",
      "execution_count": null,
      "metadata": {
        "id": "wbgl9MKp_s1G"
      },
      "outputs": [],
      "source": [
        "prompt = \"\"\"Un an à peine après la normalisation de leurs relations, le Maroc et Israël ont fait un pas spectaculaire l’un vers l’autre, mercredi 24 novembre. Les deux pays ont conclu un accord-cadre de coopération sécuritaire « sans précédent », lors d’une visite historique à Rabat du ministre israélien de la défense, Benny Gantz, en pleine tension entre le royaume chérifien et l’Algérie.\n",
        "M. Gantz, un ancien chef de l’armée israélienne, a été reçu en début de matinée par le ministre délégué chargé de l’administration de la défense nationale marocaine, Abdellatif Loudiyi. Ils ont signé un protocole d’accord qui lance formellement la coopération sécuritaire « sous tous ses aspects » entre les deux pays, face aux « menaces et défis dans la région », selon la partie israélienne. « Il s’agit d’une chose très importante qui nous permettra aussi d’échanger nos opinions, de lancer des projets conjoints et favorisera les exportations israéliennes jusqu’ici », a souligné M. Gantz.\n",
        "Avant son départ de Tel-Aviv, mardi soir, il avait évoqué « un voyage important au Maroc qui a une touche historique, car il s’agit de la première visite formelle d’un ministre de la défense [israélien] dans ce pays ». Au cours de ce déplacement de quarante-huit heures, M. Gantz doit aussi s’entretenir, mercredi, avec le ministre marocain des affaires étrangères, Nasser Bourita.\n",
        "\"\"\"\n",
        "\n",
        "print(\"Texte : \" + prompt)\n",
        "outputs = creator_fr(prompt, n_tokens=50, skill=\"summarisation\", seed=3) # We use skills to dynamically adapt the model to specific tasks.\n",
        "\n",
        "print(\"Résumé : 🤖 \" + outputs[0][0]['completions'][0]['output_text'])"
      ],
      "id": "wbgl9MKp_s1G"
    }
  ],
  "metadata": {
    "kernelspec": {
      "display_name": "Python 3",
      "language": "python",
      "name": "python3"
    },
    "language_info": {
      "codemirror_mode": {
        "name": "ipython",
        "version": 3
      },
      "file_extension": ".py",
      "mimetype": "text/x-python",
      "name": "python",
      "nbconvert_exporter": "python",
      "pygments_lexer": "ipython3",
      "version": "3.7.6"
    },
    "colab": {
      "name": "demo_dassault.ipynb",
      "provenance": [],
      "toc_visible": true,
      "collapsed_sections": []
    }
  },
  "nbformat": 4,
  "nbformat_minor": 5
}